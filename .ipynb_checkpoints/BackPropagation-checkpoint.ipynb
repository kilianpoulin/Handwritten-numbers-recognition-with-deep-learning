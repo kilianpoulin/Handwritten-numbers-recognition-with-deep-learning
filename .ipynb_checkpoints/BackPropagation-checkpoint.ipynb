{
 "cells": [
  {
   "cell_type": "markdown",
   "metadata": {},
   "source": [
    "<font size=\"6\">**Neural network architecture**</font>\n",
    "<br><br>\n",
    "\n",
    "\n",
    "<table>\n",
    "    <tr>\n",
    "        <th>Variable</th>\n",
    "        <th>Description</th>\n",
    "    </tr>\n",
    "    <tr>\n",
    "        <td>OUTPUTS</td>\n",
    "        <td><i>array containing all possible outputs</i></td>\n",
    "    </tr>\n",
    "    <tr>\n",
    "        <td>NB_HIDDEN_LAYERS</td>\n",
    "        <td><i>integer</i></td>\n",
    "    </tr>\n",
    "    <tr>\n",
    "        <td>NB_HIDDEN_NODES</td>\n",
    "        <td><i>array containing the number of hidden nodes for each hidden layer (from the first one to the last one)</i></td>\n",
    "    </tr>\n",
    "    <tr>\n",
    "        <td>NB_INPUTS </td>\n",
    "        <td><i>number of nodes on the input layer</i></td>\n",
    "    </tr>\n",
    "    <tr>\n",
    "        <td>NB_EPOCH </td>\n",
    "        <td><i>number of times the training data set will be used entirely to train the network</i></td>\n",
    "    </tr>\n",
    "</table>\n"
   ]
  },
  {
   "cell_type": "code",
   "execution_count": 109,
   "metadata": {},
   "outputs": [],
   "source": [
    "OUTPUTS = [0, 1, 2, 3, 4, 5, 6, 7, 8, 9]\n",
    "#OUTPUTS = [0, 3, 4]\n",
    "NB_OUTPUTS = len(OUTPUTS)\n",
    "NB_HIDDEN_LAYERS = 1\n",
    "NB_HIDDEN_NODES = [124]\n",
    "NB_INPUTS = 784\n",
    "NB_EPOCH = 10\n",
    "network = list()"
   ]
  },
  {
   "cell_type": "markdown",
   "metadata": {},
   "source": [
    "<font size=\"6\">**Neural Network Training settings**</font>\n",
    "<br><br>\n",
    "\n",
    "\n",
    "<table>\n",
    "    <tr>\n",
    "        <th style=\"text-align: center\">Variable</th>\n",
    "        <th style=\"text-align: center\">Description</th>\n",
    "    </tr>\n",
    "    <tr>\n",
    "        <td colspan=\"2\" style=\"text-align: center\"><font size=\"4\">Training dataset</font></td>\n",
    "    </tr>\n",
    "    <tr>\n",
    "        <td>NB_DATA</td>\n",
    "        <td style=\"text-align: left\"><i>integer - Number of data used in the dataset</i></td>\n",
    "    </tr>\n",
    "    <tr>\n",
    "        <td>TRAINING PATH</td>\n",
    "        <td style=\"text-align: left\"><i>string - relative or full path of the training dataset folder</i></td>\n",
    "    </tr>\n",
    "    <tr>\n",
    "        <td>DATA_TYPE</td>\n",
    "        <td style=\"text-align: left\"><i>string - either 'img' or 'xor', depends on type of input data</i></td>\n",
    "    </tr>\n",
    "    <tr>\n",
    "        <td colspan=\"2\" style=\"text-align: center\"><font size=\"4\">Learning rate</font></td>\n",
    "    </tr>\n",
    "    <tr>\n",
    "        <td>L_RATE</td>\n",
    "        <td style=\"text-align: left\"><i>float - Initial learning rate for the first epoch</i></td>\n",
    "    </tr>\n",
    "    <tr>\n",
    "        <td>L_RATE_DESC</td>\n",
    "        <td style=\"text-align: left\"><i>float - variation of the learning rate : L_RATE * L_RATE_DESC at the end of each epoch. If no variation then L_RATE_DESC = 1.0</i></td>\n",
    "    </tr>\n",
    "    <tr>\n",
    "        <td colspan=\"2\" style=\"text-align: center\"><font size=\"4\">Weights</font></td>\n",
    "    </tr>\n",
    "    <tr>\n",
    "        <td style=\"text-align: center\">WEIGHTS_LOW_BOUND</td>\n",
    "        <td style=\"text-align: left\"><i>float or integer - Weights are initialized randomly in a range of values</i></td>\n",
    "    </tr>\n",
    "    <tr>\n",
    "        <td>WEIGHTS_HIGH_BOUND</td>\n",
    "        <td style=\"text-align: left\"><i>float or integer - Weights are initialized randomly in a range of values</i></td>\n",
    "    </tr>\n",
    "    <tr>\n",
    "        <td colspan=\"2\" style=\"text-align: center\"><font size=\"4\">Error</font></td>\n",
    "    </tr>\n",
    "    <tr>\n",
    "        <td>ERR_THRESHOLD</td>\n",
    "        <td style=\"text-align: left\"><i>Minimum limit for the error value. If reached, the network can stop learning. Accuracy is good enough</i></td>\n",
    "    </tr>\n",
    "    <tr>\n",
    "        <td colspan=\"2\" style=\"text-align: center\"><font size=\"4\">Train with additional data</font></td>\n",
    "    </tr>\n",
    "    <tr>\n",
    "        <td>RETRAIN</td>\n",
    "        <td style=\"text-align: left\"><i>If set to 0, the network is initialized with random weights and values. If set to 1, it starts the training with the training result of the last execution.</i></td>\n",
    "    </tr>\n",
    "</table>\n"
   ]
  },
  {
   "cell_type": "code",
   "execution_count": 110,
   "metadata": {},
   "outputs": [],
   "source": [
    "# TRAINING DATASET\n",
    "NB_DATA = 40000\n",
    "TRAINING_PATH = '../training/'\n",
    "DATA_TYPE = 'img'\n",
    "\n",
    "# LEARNING RATE\n",
    "L_RATE = 0.01\n",
    "L_RATE_DESC = 1.0\n",
    "\n",
    "# INITIAL WEIGHTS RANGE\n",
    "WEIGHTS_LOW_BOUND = -0.5\n",
    "WEIGHTS_HIGH_BOUND = 0.5\n",
    "\n",
    "# ERROR THRESHOLD\n",
    "ERR_THRESHOLD = 0.001\n",
    "\n",
    "# RETRAIN\n",
    "RETRAIN = 0"
   ]
  },
  {
   "cell_type": "markdown",
   "metadata": {},
   "source": [
    "<font size=\"6\">**Load dataset**</font>\n",
    "<br><br>\n"
   ]
  },
  {
   "cell_type": "code",
   "execution_count": 111,
   "metadata": {},
   "outputs": [],
   "source": [
    "from PIL import Image\n",
    "import random\n",
    "import numpy as np\n",
    "import glob\n",
    "import os\n",
    "import matplotlib.image as mpimg\n",
    "import matplotlib.pyplot as plt\n",
    "\n",
    "def loadImage(img_path, number = 0):\n",
    "    pix = np.asarray(Image.open(img_path).convert('L'))\n",
    "    pix = ((pix * (1 / 2550) - 0.05)).reshape(784)\n",
    "    expected = []\n",
    "    if OUTPUTS != []:\n",
    "        for i in OUTPUTS:\n",
    "            if i == number:\n",
    "                expected = np.append(expected, 1)\n",
    "            else:\n",
    "                expected = np.append(expected, 0)\n",
    "    return pix, expected\n",
    "\n",
    "def printImage(img_path):\n",
    "    plt.close()\n",
    "    plt.figure()\n",
    "    img = Image.open(img_path)\n",
    "    img = img.resize((12, 12), Image.ANTIALIAS)\n",
    "    print(img)\n",
    "    plt.pause(1)\n",
    "    \n",
    "def load_training_dataset():\n",
    "    dataset = []\n",
    "    expected = []\n",
    "    \n",
    "    filenames = []\n",
    "    for o in OUTPUTS:\n",
    "        for filename in glob.glob(TRAINING_PATH + str(o) + '/*.png'): \n",
    "            base = os.path.basename(filename)\n",
    "            filenames.append([str(o) + '/' + base, o])\n",
    "    \n",
    "    random.shuffle(filenames)\n",
    "    if NB_DATA != 0:\n",
    "        filenames = filenames[:NB_DATA]\n",
    "        \n",
    "    for file in filenames:\n",
    "        img, exp = loadImage(TRAINING_PATH + file[0], file[1])\n",
    "        dataset.append(img)\n",
    "        expected.append(exp)\n",
    "        \n",
    "    return dataset, expected"
   ]
  },
  {
   "cell_type": "markdown",
   "metadata": {},
   "source": [
    "<font size=\"6\">**Neural network - Initialization**</font>\n",
    "<br><br>"
   ]
  },
  {
   "cell_type": "code",
   "execution_count": 112,
   "metadata": {},
   "outputs": [],
   "source": [
    "def initialize_network():\n",
    "    \n",
    "    global network\n",
    "    w = []\n",
    "    \n",
    "    # additionnal hidden layers\n",
    "    for i in range(NB_HIDDEN_LAYERS):\n",
    "        neurons = [{ 'neurons': NB_HIDDEN_NODES[i]}]\n",
    "        if i == 0:\n",
    "            w.append(np.random.uniform(low=WEIGHTS_LOW_BOUND, high=WEIGHTS_HIGH_BOUND, size=(NB_HIDDEN_NODES[i], NB_INPUTS)))\n",
    "        else:\n",
    "            w.append(np.random.uniform(low=WEIGHTS_LOW_BOUND, high=WEIGHTS_HIGH_BOUND, size=(NB_HIDDEN_NODES[i], NB_HIDDEN_NODES[i - 1])))\n",
    "\n",
    "        network.append(neurons)\n",
    "    \n",
    "    # output layer\n",
    "    neurons = [{ 'neurons': NB_OUTPUTS}]\n",
    "    w.append(np.random.uniform(low=WEIGHTS_LOW_BOUND, high=WEIGHTS_HIGH_BOUND, size=(NB_OUTPUTS, NB_HIDDEN_NODES[NB_HIDDEN_LAYERS - 1])))\n",
    "    network.append(neurons)\n",
    "    \n",
    "    for layer in network:\n",
    "              \n",
    "        wTmp = {'w': w[0]}\n",
    "        layer.append(wTmp)\n",
    "        w.pop(0)\n",
    "        \n",
    "        aTmp = { 'a': np.matrix(np.random.rand(layer[0]['neurons']))}\n",
    "        layer.append(aTmp)\n",
    "        \n",
    "        eTmp = { 'e': np.matrix(np.random.rand(layer[0]['neurons']))}\n",
    "        layer.append(eTmp)\n",
    "        \n",
    "    return network\n",
    "  "
   ]
  },
  {
   "cell_type": "markdown",
   "metadata": {},
   "source": [
    "<font size=\"6\">**Deep Learning - Forward Propagation**</font>\n",
    "<br><br>\n"
   ]
  },
  {
   "cell_type": "code",
   "execution_count": 113,
   "metadata": {},
   "outputs": [],
   "source": [
    "import numpy as np\n",
    "import math\n",
    "import matplotlib.pyplot as plt\n",
    "\n",
    "def sigmoid(x):\n",
    "    return 1 / (1 + np.exp(-x))\n",
    " \n",
    "def forward_prop(inputs):\n",
    "    global network\n",
    "    vect_sigmoid = np.vectorize(sigmoid)\n",
    "    \n",
    "    for i in range(len(network)):\n",
    "        layer = network[i]\n",
    "        new_inputs = []\n",
    "        \n",
    "        if (inputs.shape)[0] == 1 :\n",
    "            layer[0]['a'] = vect_sigmoid(np.dot(layer[1]['w'], inputs.T))\n",
    "        else:\n",
    "            layer[0]['a'] = vect_sigmoid(np.dot(layer[1]['w'], inputs))\n",
    "\n",
    "        new_inputs.append(layer[0]['a'])\n",
    "        inputs = new_inputs[0]\n",
    "    return np.matrix(inputs)"
   ]
  },
  {
   "cell_type": "markdown",
   "metadata": {},
   "source": [
    "<font size=\"6\">**Deep Learning - Backpropagation error**</font>\n",
    "<br><br>\n"
   ]
  },
  {
   "cell_type": "code",
   "execution_count": 114,
   "metadata": {},
   "outputs": [],
   "source": [
    "# Update network weights with error\n",
    "def update_weights(data):\n",
    "    delta = []\n",
    "    global L_RATE\n",
    "    \n",
    "    for i in range(len(network)):\n",
    "        layer = network[i]\n",
    "        \n",
    "        if i != 0:\n",
    "            delta = np.multiply((layer[3]['e'] * L_RATE).T, network[i - 1][0]['a'])\n",
    "        else:\n",
    "            delta = np.multiply((layer[3]['e'] * L_RATE).T, data)\n",
    "        layer[1]['w'] = layer[1]['w'] + delta.T\n",
    "        \n",
    "def backward_prop_error(expected):\n",
    "    for i in reversed(range(len(network))):\n",
    "        layer = network[i]\n",
    "        errors = []\n",
    "        \n",
    "        # case where it is not the output layer\n",
    "        if i != len(network)-1:\n",
    "            o_errors = network[i + 1][3]['e']\n",
    "            o_weights = network[i + 1][1]['w']\n",
    "            \n",
    "            errors = np.dot(\n",
    "                np.dot(o_weights.T, o_errors),\n",
    "                np.dot((layer[0]['a'].T), 1 - layer[0]['a']))\n",
    "            \n",
    "            layer[3]['e'] = errors\n",
    "        else:\n",
    "            errors = np.dot(expected.T - layer[0]['a'], np.dot((layer[0]['a']).T, (1 - layer[0]['a'])))\n",
    "            layer[3]['e']  = errors\n",
    "            \n",
    "\n",
    "    "
   ]
  },
  {
   "cell_type": "markdown",
   "metadata": {},
   "source": [
    "<font size=\"6\">**Neural network - Training**</font>\n",
    "<br><br>\n",
    "\n",
    "* **train_network()**\n",
    "<br>\n",
    "Executes the whole training process (forward propagation + backward propagation error + updating weights) for each epoch\n",
    "<br><br>\n",
    "\n",
    "* **error_function**(expected outputs: array of integers, outputs of the program: array of floats)\n",
    "<br>\n",
    "Calculates the average error for each output when processing element thru the neural network\n",
    "<br>\n",
    "It is based on MSE (Mean Squared Error)\n",
    "<br><br>\n",
    "\n",
    "* **update_line**(plot: plt, new error value: integer, iter: integer)\n",
    "<br>\n",
    "Adds the newly calculated error to the graph showing evolution of the error function values"
   ]
  },
  {
   "cell_type": "code",
   "execution_count": 117,
   "metadata": {},
   "outputs": [],
   "source": [
    "def error_function(expected, outputs):\n",
    "    return (1/len(OUTPUTS)) * sum(np.square(expected - outputs))\n",
    "    #return sum(np.square(expected - outputs))\n",
    "\n",
    "def update_line(hl, new_data, iter):\n",
    "    hl.set_xdata(np.append(hl.get_xdata(), iter))\n",
    "    hl.set_ydata(np.append(hl.get_ydata(), new_data))\n",
    "    plt.draw()\n",
    "\n",
    "\n",
    "def train_network():\n",
    "    \n",
    "    global network\n",
    "    global L_RATE\n",
    "    global L_RATE_DESC\n",
    "    expected = []\n",
    "    dataset = []\n",
    "    \n",
    "    \n",
    "    # ------ Initialization part -------\n",
    "    \n",
    "    if DATA_TYPE == 'img':\n",
    "        if dataset == []:\n",
    "            dataset, exp = load_training_dataset()\n",
    "            x = np.matrix(dataset)\n",
    "            expected = np.matrix(exp)\n",
    "        else:\n",
    "            x = dataset\n",
    "    elif DATE_TYPE == 'xor':\n",
    "        x = np.matrix([[1, 0, 1, 1, 1], [1, 1, 0, 1, 0], [0, 0, 1, 0, 0], [0, 1, 0, 0, 1]])\n",
    "    else:\n",
    "        return 'Wrong datatype (should be iprintpmg or xor)'\n",
    "\n",
    "    if RETRAIN == 0:\n",
    "        network = initialize_network()\n",
    "    \n",
    "    \n",
    "    # --------- Training part ----------\n",
    "    \n",
    "    err_plot, = plt.plot([], [])\n",
    "    plt.ylabel('error')\n",
    "    axes = plt.gca()\n",
    "    iter = 0\n",
    "    \n",
    "    for epoch in range(NB_EPOCH):\n",
    "        error = 0\n",
    "        iter = 0\n",
    "        for data in x:\n",
    "            new_data = data.T\n",
    "            \n",
    "            # ---------- Forward propagation ---------------\n",
    "            outputs = forward_prop(new_data)\n",
    "            \n",
    "            # ---------- Calculating error (MSE) -----------\n",
    "            error += error_function(expected[iter].T, outputs)\n",
    "            \n",
    "            # ---------- Backward propagation error --------\n",
    "            backward_prop_error(expected[iter])\n",
    "            \n",
    "            # ---------- Updating weights ------------------\n",
    "            update_weights(new_data)\n",
    "            \n",
    "            iter += 1\n",
    "            \n",
    "        # ---------- Calculating and displaying error after one epoch ------------------\n",
    "        final_err = error / len(x)\n",
    "        print('>>> iter/epoch = %d, learning rate = %.3f, error = %.5f' % (epoch + 1, L_RATE, final_err))\n",
    "        \n",
    "        # ---------- Initializing graph for first epoch (based on first error value) ---\n",
    "        if epoch == 0:\n",
    "            axes.set_xlim([0, NB_EPOCH - 1])\n",
    "            axes.set_ylim([0, float(final_err) + 0.01])\n",
    "            \n",
    "        # ---------- Updating error graph --------\n",
    "        update_line(err_plot, final_err, epoch)\n",
    "        \n",
    "        if error < ERR_THRESHOLD:\n",
    "            print('error : ' + str(final_err))\n",
    "            return network\n",
    "        \n",
    "        L_RATE *= L_RATE_DESC\n",
    "        \n",
    "    print('error     : ' + str(final_err))\n",
    "    return network\n"
   ]
  },
  {
   "cell_type": "markdown",
   "metadata": {},
   "source": [
    "<font size=\"6\">**Execution - Training**</font>\n",
    "<br><br>"
   ]
  },
  {
   "cell_type": "code",
   "execution_count": 116,
   "metadata": {
    "scrolled": true
   },
   "outputs": [
    {
     "name": "stdout",
     "output_type": "stream",
     "text": [
      ">>> iter/epoch = 1, learning rate = 0.010, error = 0.02646\n",
      ">>> iter/epoch = 2, learning rate = 0.010, error = 0.01917\n",
      ">>> iter/epoch = 3, learning rate = 0.010, error = 0.01755\n",
      ">>> iter/epoch = 4, learning rate = 0.010, error = 0.01660\n",
      ">>> iter/epoch = 5, learning rate = 0.010, error = 0.01594\n",
      ">>> iter/epoch = 6, learning rate = 0.010, error = 0.01545\n",
      ">>> iter/epoch = 7, learning rate = 0.010, error = 0.01506\n",
      ">>> iter/epoch = 8, learning rate = 0.010, error = 0.01474\n",
      ">>> iter/epoch = 9, learning rate = 0.010, error = 0.01447\n",
      ">>> iter/epoch = 10, learning rate = 0.010, error = 0.01424\n",
      "error     : [[0.01424356]]\n"
     ]
    },
    {
     "data": {
      "image/png": "[encoded data removed]",
      "text/plain": [
       "<Figure size 432x288 with 1 Axes>"
      ]
     },
     "metadata": {
      "needs_background": "light"
     },
     "output_type": "display_data"
    }
   ],
   "source": [
    "network = train_network()"
   ]
  },
  {
   "cell_type": "markdown",
   "metadata": {},
   "source": [
    "<font size=\"6\">**Predict - Settings**</font>\n",
    "<br><br>"
   ]
  },
  {
   "cell_type": "code",
   "execution_count": 120,
   "metadata": {},
   "outputs": [],
   "source": [
    "PREDICT_PATH = 'D:\\Testing data'\n",
    "OUTPUT_FILE = '710883299 - outputs.txt'\n",
    "NB_PREDICT_DATA = 9"
   ]
  },
  {
   "cell_type": "markdown",
   "metadata": {},
   "source": [
    "<font size=\"6\">**Predict**</font>\n",
    "<br><br>\n",
    "* Generates a .txt file as an output \n",
    "\n",
    "[NAME OF THE FILE] Program output\n",
    "\n",
    "ex:\n",
    "\n",
    "0001 5\n",
    "<br>\n",
    "0002 9"
   ]
  },
  {
   "cell_type": "code",
   "execution_count": 79,
   "metadata": {},
   "outputs": [],
   "source": [
    "def predict():\n",
    "    predict_o = []\n",
    "    filenames = []\n",
    "    wrong = []\n",
    "    correct = 0\n",
    "    \n",
    "    for filename in glob.glob(PREDICT_PATH + '/*.png'):\n",
    "        base = os.path.splitext(os.path.basename(filename))[0]\n",
    "        data = loadImage(filename)\n",
    "        filenames.append(base)\n",
    "\n",
    "        output = forward_prop(data[0])\n",
    "\n",
    "        val = [i for i in np.where(output == np.amax(output))]\n",
    "        predict_o.append(np.around(OUTPUTS[val[0][0]]).astype(int))\n",
    "            \n",
    "    final = list()\n",
    "\n",
    "    for i in range(len(filenames)):\n",
    "        final.append({ filenames[i] : predict_o[i]})\n",
    "\n",
    "\n",
    "    with open(OUTPUT_FILE, 'w') as f:\n",
    "        for item in final:\n",
    "            f.write(\"%s\\n\" % str(item).replace('{', '').replace('}', '').replace(\"'\", '').replace(':', ''))\n",
    "\n",
    "    print('Completed - Output file generated')"
   ]
  },
  {
   "cell_type": "markdown",
   "metadata": {},
   "source": [
    "<font size=\"6\">**Execution - Predict**</font>\n",
    "<br><br>"
   ]
  },
  {
   "cell_type": "code",
   "execution_count": 80,
   "metadata": {},
   "outputs": [
    {
     "name": "stdout",
     "output_type": "stream",
     "text": [
      "Completed - Output file generated\n"
     ]
    }
   ],
   "source": [
    "predict()"
   ]
  },
  {
   "cell_type": "markdown",
   "metadata": {},
   "source": [
    "<font size=\"6\">**Accuracy tests - Settings**</font>\n",
    "<br><br>"
   ]
  },
  {
   "cell_type": "code",
   "execution_count": 122,
   "metadata": {},
   "outputs": [],
   "source": [
    "TESTING_PATH = '../training/'"
   ]
  },
  {
   "cell_type": "markdown",
   "metadata": {},
   "source": [
    "<font size=\"6\">**Accuracy tests**</font>\n",
    "<br><br>\n",
    "\n",
    "* Takes a dataset and compares program output with real values"
   ]
  },
  {
   "cell_type": "code",
   "execution_count": 141,
   "metadata": {},
   "outputs": [],
   "source": [
    "def accuracy_check():\n",
    "    predict_o = []\n",
    "    filenames = []\n",
    "    wrong = []\n",
    "    correct = 0\n",
    "    for number in OUTPUTS:\n",
    "        for filename in glob.glob(TESTING_PATH + str(number) + '/*.png'):\n",
    "            base = os.path.splitext(os.path.basename(filename))[0]\n",
    "            data = loadImage(filename)\n",
    "            filenames.append(base)\n",
    "            \n",
    "            output = forward_prop(data[0])\n",
    "\n",
    "            val = [i for i in np.where(output == np.amax(output))]\n",
    "            ans = np.around(OUTPUTS[val[0][0]]).astype(int)\n",
    "            #print(val)\n",
    "            if ans == number:\n",
    "                correct += 1\n",
    "            else:\n",
    "                wrong.append([number, ans, filename])\n",
    "            predict_o.append(ans)\n",
    "            \n",
    "    final = list()\n",
    "\n",
    "    for i in range(len(filenames)):\n",
    "        final.append({ filenames[i] : predict_o[i]})\n",
    "\n",
    "\n",
    "    with open('outputs.txt', 'w') as f:\n",
    "        for item in final:\n",
    "            f.write(\"%s\\n\" % str(item).replace('{', '').replace('}', '').replace(\"'\", '').replace(':', ''))\n",
    "            \n",
    "    print('correct : %d ( %.2f %s)' % (correct, (correct / len(filenames)) * 100, '%'))\n",
    "    print('wrong   : %d ( %.2f %s)' % (len(filenames) - correct, ((len(filenames) - correct) / len(filenames)) * 100, '%'))\n",
    "    \n",
    "def predict_one(data = []):\n",
    "    files = []\n",
    "    if data == []:\n",
    "        for number in OUTPUTS:\n",
    "            for filename in glob.glob(TESTING_PATH + str(number) + '/*.png'):\n",
    "                f = TESTING_PATH + str(number) + '/' + os.path.basename(filename)\n",
    "                files.append([number, f])\n",
    "        \n",
    "        input = random.choice(files)\n",
    "        filename = input[1]\n",
    "        correct = input[0]\n",
    "    else:\n",
    "        filename = data[2]\n",
    "        ans = data[1]\n",
    "        correct = data[0]\n",
    "    img, exp = loadImage(filename)\n",
    "\n",
    "    output = forward_prop(np.matrix(img))\n",
    "    \n",
    "    if data == []:\n",
    "        val = [i for i in np.where(output == np.amax(output))]\n",
    "        ans = np.around(OUTPUTS[val[0][0]]).astype(int)\n",
    "    \n",
    "    printImage(filename)\n",
    "    print('program output : ' + str(ans))\n",
    "    print('correct output : ' + str(correct))\n",
    " "
   ]
  },
  {
   "cell_type": "markdown",
   "metadata": {},
   "source": [
    "<font size=\"5\">**Accuracy test - Percentage of correct/wrong answers**</font>\n",
    "<br><br>"
   ]
  },
  {
   "cell_type": "code",
   "execution_count": 142,
   "metadata": {},
   "outputs": [
    {
     "name": "stdout",
     "output_type": "stream",
     "text": [
      "correct : 36865 ( 92.16 %)\n",
      "wrong   : 3135 ( 7.84 %)\n"
     ]
    }
   ],
   "source": [
    "accuracy_check()"
   ]
  },
  {
   "cell_type": "markdown",
   "metadata": {},
   "source": [
    "<font size=\"5\">**Accuracy test - Comparing results in details**</font>\n",
    "<br><br>\n",
    "* Displaying the test image\n",
    "* Displaying the output of the program\n",
    "* Displaying the exepected answer\n",
    "\n",
    "**/!\\ It is better to try it on small datasets (< 20 images)**"
   ]
  },
  {
   "cell_type": "code",
   "execution_count": 82,
   "metadata": {
    "scrolled": true
   },
   "outputs": [
    {
     "name": "stdout",
     "output_type": "stream",
     "text": [
      "Completed - Output file generated\n"
     ]
    },
    {
     "ename": "TypeError",
     "evalue": "'NoneType' object is not iterable",
     "output_type": "error",
     "traceback": [
      "\u001b[1;31m---------------------------------------------------------------------------\u001b[0m",
      "\u001b[1;31mTypeError\u001b[0m                                 Traceback (most recent call last)",
      "\u001b[1;32m<ipython-input-82-e68a909d5065>\u001b[0m in \u001b[0;36m<module>\u001b[1;34m\u001b[0m\n\u001b[0;32m      1\u001b[0m \u001b[0mwrong\u001b[0m \u001b[1;33m=\u001b[0m \u001b[0mpredict\u001b[0m\u001b[1;33m(\u001b[0m\u001b[1;33m)\u001b[0m\u001b[1;33m\u001b[0m\u001b[1;33m\u001b[0m\u001b[0m\n\u001b[0;32m      2\u001b[0m \u001b[0miter\u001b[0m \u001b[1;33m=\u001b[0m \u001b[1;36m0\u001b[0m\u001b[1;33m\u001b[0m\u001b[1;33m\u001b[0m\u001b[0m\n\u001b[1;32m----> 3\u001b[1;33m \u001b[1;32mfor\u001b[0m \u001b[0mw\u001b[0m \u001b[1;32min\u001b[0m \u001b[0mwrong\u001b[0m\u001b[1;33m:\u001b[0m\u001b[1;33m\u001b[0m\u001b[1;33m\u001b[0m\u001b[0m\n\u001b[0m\u001b[0;32m      4\u001b[0m     \u001b[1;32mif\u001b[0m \u001b[0miter\u001b[0m \u001b[1;33m>\u001b[0m \u001b[1;36m10\u001b[0m\u001b[1;33m:\u001b[0m\u001b[1;33m\u001b[0m\u001b[1;33m\u001b[0m\u001b[0m\n\u001b[0;32m      5\u001b[0m         \u001b[1;32mbreak\u001b[0m\u001b[1;33m\u001b[0m\u001b[1;33m\u001b[0m\u001b[0m\n",
      "\u001b[1;31mTypeError\u001b[0m: 'NoneType' object is not iterable"
     ]
    }
   ],
   "source": [
    "wrong = predict()\n",
    "iter = 0\n",
    "for w in wrong:\n",
    "    if iter > 10:\n",
    "        break\n",
    "    predict_one(w)\n",
    "    iter += 1"
   ]
  },
  {
   "cell_type": "code",
   "execution_count": null,
   "metadata": {},
   "outputs": [],
   "source": []
  }
 ],
 "metadata": {
  "kernelspec": {
   "display_name": "Python 3",
   "language": "python",
   "name": "python3"
  },
  "language_info": {
   "codemirror_mode": {
    "name": "ipython",
    "version": 3
   },
   "file_extension": ".py",
   "mimetype": "text/x-python",
   "name": "python",
   "nbconvert_exporter": "python",
   "pygments_lexer": "ipython3",
   "version": "3.7.3"
  }
 },
 "nbformat": 4,
 "nbformat_minor": 2
}
